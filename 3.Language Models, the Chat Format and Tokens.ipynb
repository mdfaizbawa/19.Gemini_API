{
 "cells": [
  {
   "cell_type": "code",
   "execution_count": 12,
   "id": "162e7dc5-7d13-4277-b819-bf331bacb33d",
   "metadata": {},
   "outputs": [],
   "source": [
    "from google import generativeai as genai\n",
    "genai.configure(api_key='********')"
   ]
  },
  {
   "cell_type": "code",
   "execution_count": 2,
   "id": "1e599dfc-574a-48ef-99bf-b70ebf39b4d2",
   "metadata": {},
   "outputs": [],
   "source": [
    "def get_generate(prompt, model=\"gemini-2.0-flash-lite\", temp=0.2):\n",
    "    model = genai.GenerativeModel(model)\n",
    "    content={\"role\":\"user\", \"parts\": [prompt]}\n",
    "    response=model.generate_content(\n",
    "        contents=content,\n",
    "        generation_config={\n",
    "            \"temperature\":temp}\n",
    "    )\n",
    "    return response.text\n",
    "    "
   ]
  },
  {
   "cell_type": "markdown",
   "id": "06007369-a32a-4b2c-9fa7-dbca2e1c87cc",
   "metadata": {},
   "source": [
    "Prompt the model and get generate"
   ]
  },
  {
   "cell_type": "code",
   "execution_count": 3,
   "id": "00496870-311d-414a-846b-01441a2c3d56",
   "metadata": {},
   "outputs": [
    {
     "name": "stdout",
     "output_type": "stream",
     "text": [
      "The capital of the Netherlands is **Amsterdam**.\n",
      "\n"
     ]
    }
   ],
   "source": [
    "print(get_generate(\"What is the capital of Netherlands?\"))"
   ]
  },
  {
   "cell_type": "markdown",
   "id": "5e79a7e8-3b4b-49fa-a36b-c8f2023d6058",
   "metadata": {},
   "source": [
    "Tokens"
   ]
  },
  {
   "cell_type": "code",
   "execution_count": 4,
   "id": "bd3c1709-e8a1-4b6c-b114-d2473bfc5975",
   "metadata": {},
   "outputs": [],
   "source": [
    "response=get_generate(\"Take the letters in lollipop \\ reverse them\")"
   ]
  },
  {
   "cell_type": "code",
   "execution_count": 5,
   "id": "58b613b6-7b42-4b9d-8b1b-dc335178b90d",
   "metadata": {},
   "outputs": [
    {
     "name": "stdout",
     "output_type": "stream",
     "text": [
      "The reversed letters of \"lollipop\" are:\n",
      "\n",
      "**pillopol**\n",
      "\n"
     ]
    }
   ],
   "source": [
    "print(response)"
   ]
  },
  {
   "cell_type": "code",
   "execution_count": 6,
   "id": "4fee40d0-e06a-408a-b686-389165e963eb",
   "metadata": {},
   "outputs": [
    {
     "name": "stdout",
     "output_type": "stream",
     "text": [
      "The reversed letters of \"l-o-l-l-i-p-o-p\" are:\n",
      "\n",
      "**p-o-p-i-l-l-o-l**\n",
      "\n"
     ]
    }
   ],
   "source": [
    "response=get_generate(\"\"\"Take the letters in \\\n",
    "l-o-l-l-i-p-o-p and reverse them\"\"\")\n",
    "print(response)"
   ]
  },
  {
   "cell_type": "markdown",
   "id": "acd0893e-70a8-4862-8607-0018467c5fed",
   "metadata": {},
   "source": [
    "Helper function (chat format)"
   ]
  },
  {
   "cell_type": "code",
   "execution_count": 7,
   "id": "c639e888-1084-4668-b075-09ebd388b839",
   "metadata": {},
   "outputs": [],
   "source": [
    "def get_generate_from_content(content, model=\"gemini-2.0-flash-lite\", temp=1.5, tokens=256):\n",
    "    # Initialize the model\n",
    "    model = genai.GenerativeModel(model)\n",
    "    response =model.generate_content(\n",
    "        contents= content,\n",
    "        generation_config={\n",
    "            \"temperature\":temp, \n",
    "            \"max_output_tokens\": tokens\n",
    "        })\n",
    "    return response.text\n",
    "    "
   ]
  },
  {
   "cell_type": "code",
   "execution_count": 8,
   "id": "1ead2492-c466-4640-988b-1f4660219223",
   "metadata": {},
   "outputs": [],
   "source": [
    "content= [\n",
    "    {\"role\": \"user\",\"parts\": [\"You are an assistant who responds in the style of Dr. Seuss. \"\n",
    "            \"Write me a very short poem about a happy carrot.\"]}\n",
    "]\n",
    "reponse= get_generate_from_content(content)"
   ]
  },
  {
   "cell_type": "code",
   "execution_count": 9,
   "id": "a1c86beb-ca62-493a-bd6a-67ae9e881fe4",
   "metadata": {},
   "outputs": [
    {
     "name": "stdout",
     "output_type": "stream",
     "text": [
      "Oh, a carrot, so bright!\n",
      "He's happy and light!\n",
      "With a grin and a bounce,\n",
      "He's givin' a 'pounce!'\n",
      "\n",
      "Through gardens he zooms,\n",
      "Dispelling all glooms!\n",
      "A carrot of cheer,\n",
      "Huzzah! He's right here!\n",
      "\n"
     ]
    }
   ],
   "source": [
    "print(reponse)"
   ]
  },
  {
   "cell_type": "code",
   "execution_count": 10,
   "id": "b8ab9560-2043-41cb-bdc8-cf2d8135b602",
   "metadata": {},
   "outputs": [],
   "source": [
    "#Length\n",
    "\n",
    "content= [\n",
    "    {\"role\": \"user\",\"parts\": [\"All your responses must be one sentence long. \"\n",
    "            \"Write me a very short poem about a happy carrot.\"]}\n",
    "]\n",
    "reponse= get_generate_from_content(content)"
   ]
  },
  {
   "cell_type": "code",
   "execution_count": 11,
   "id": "9a44db17-51b2-4a24-a6cc-cfe79be66178",
   "metadata": {},
   "outputs": [
    {
     "name": "stdout",
     "output_type": "stream",
     "text": [
      "The sun warmed the carrot, so bright and so bold, as it danced in the earth, a story untold.\n",
      "\n"
     ]
    }
   ],
   "source": [
    "print(reponse)"
   ]
  },
  {
   "cell_type": "code",
   "execution_count": null,
   "id": "ec66c174-3d2d-41b2-aaf4-bc3e88fdff11",
   "metadata": {},
   "outputs": [],
   "source": []
  }
 ],
 "metadata": {
  "kernelspec": {
   "display_name": "Python 3 (ipykernel)",
   "language": "python",
   "name": "python3"
  },
  "language_info": {
   "codemirror_mode": {
    "name": "ipython",
    "version": 3
   },
   "file_extension": ".py",
   "mimetype": "text/x-python",
   "name": "python",
   "nbconvert_exporter": "python",
   "pygments_lexer": "ipython3",
   "version": "3.10.16"
  }
 },
 "nbformat": 4,
 "nbformat_minor": 5
}
