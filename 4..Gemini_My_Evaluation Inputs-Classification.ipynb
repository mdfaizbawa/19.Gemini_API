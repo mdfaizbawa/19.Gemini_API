{
 "cells": [
  {
   "cell_type": "code",
   "execution_count": 3,
   "id": "cbbe16e1-d7a7-41c4-a707-e60df43ec7c6",
   "metadata": {},
   "outputs": [],
   "source": [
    "#!pip install google-generativeai==0.8.4 --quiet"
   ]
  },
  {
   "cell_type": "code",
   "execution_count": 4,
   "id": "367abce5-4001-4c42-b608-e2ab465f2d6d",
   "metadata": {},
   "outputs": [
    {
     "name": "stderr",
     "output_type": "stream",
     "text": [
      "C:\\Anaconda\\envs\\genai\\lib\\site-packages\\tqdm\\auto.py:21: TqdmWarning: IProgress not found. Please update jupyter and ipywidgets. See https://ipywidgets.readthedocs.io/en/stable/user_install.html\n",
      "  from .autonotebook import tqdm as notebook_tqdm\n"
     ]
    }
   ],
   "source": [
    "from google import generativeai as genai\n",
    "genai.configure(api_key='*******')"
   ]
  },
  {
   "cell_type": "code",
   "execution_count": 16,
   "id": "869a8f4e-3898-45d5-b97d-7f9b554b84ba",
   "metadata": {},
   "outputs": [],
   "source": [
    "def get_completion_from_message(message,\n",
    "                                model=\"gemini-2.0-flash-lite\",\n",
    "                                temp=0,\n",
    "                                max_token=500):\n",
    "    chat_model = genai.GenerativeModel(model)\n",
    "    response = chat_model.generate_content(\"\\n\".join(message))\n",
    "    return response.text    "
   ]
  },
  {
   "cell_type": "code",
   "execution_count": 6,
   "id": "9e83c2f6-256a-4669-b191-62002cc15fa4",
   "metadata": {},
   "outputs": [],
   "source": [
    "delimiter=\"####\"\n",
    "system_message=f\"\"\"\n",
    "You will be provided with customer service queries. \\\n",
    "The customer service query will be delimited with \\\n",
    "{delimiter} characters.\n",
    "Classify each query into a primary category \\\n",
    "and a secondary category.\n",
    "Provide your output in json format with the \\\n",
    "keys: primary and secondary.\n",
    "\n",
    "Primary categories: Billing, Technical Support, \\\n",
    "Account Management, or General Inquiry.\\76\n",
    "\n",
    "Billing secondary categories:\n",
    "Unsubscribe or upgrade\n",
    "Add a payment method\n",
    "Explanation for charge\n",
    "Dispute a charge\n",
    "\n",
    "Technical Support secondary categories:\n",
    "General troubleshooting\n",
    "Device compatibility\n",
    "Software updates\n",
    "\n",
    "Account Management secondary categories:\n",
    "Password reset\n",
    "Update personal information\n",
    "Close account\n",
    "Account security\n",
    "\n",
    "General Inquiry secondary categories:\n",
    "Product information\n",
    "Pricing\n",
    "Feedback\n",
    "Speak to a human\n",
    "\"\"\""
   ]
  },
  {
   "cell_type": "code",
   "execution_count": 17,
   "id": "094a6e03-a3ef-48fa-b0a0-812820342d65",
   "metadata": {},
   "outputs": [
    {
     "name": "stdout",
     "output_type": "stream",
     "text": [
      "```json\n",
      "{\n",
      "  \"primary\": \"Account Management\",\n",
      "  \"secondary\": \"Close account\"\n",
      "}\n",
      "```\n"
     ]
    }
   ],
   "source": [
    "user_message=\"I want to delete my profile and all of my user data\"\n",
    "message= [system_message, f\"{delimiter}{user_message}{delimiter}\"]\n",
    "response= get_completion_from_message(message)\n",
    "print(response)"
   ]
  },
  {
   "cell_type": "code",
   "execution_count": 18,
   "id": "1f0e572d-9d76-43d1-b473-98afd47f466d",
   "metadata": {},
   "outputs": [
    {
     "name": "stdout",
     "output_type": "stream",
     "text": [
      "```json\n",
      "{\n",
      "  \"primary\": \"General Inquiry\",\n",
      "  \"secondary\": \"Product information\"\n",
      "}\n",
      "```\n"
     ]
    }
   ],
   "source": [
    "user_message=\"Tell me more about flat-screen TVs\"\n",
    "message=[system_message, f\"{delimiter}{user_message}{delimiter}\"]\n",
    "response= get_completion_from_message(message)\n",
    "print(response)"
   ]
  },
  {
   "cell_type": "code",
   "execution_count": null,
   "id": "97e3e26c-a60c-428f-b190-fd479062a728",
   "metadata": {},
   "outputs": [],
   "source": []
  }
 ],
 "metadata": {
  "kernelspec": {
   "display_name": "Python 3 (ipykernel)",
   "language": "python",
   "name": "python3"
  },
  "language_info": {
   "codemirror_mode": {
    "name": "ipython",
    "version": 3
   },
   "file_extension": ".py",
   "mimetype": "text/x-python",
   "name": "python",
   "nbconvert_exporter": "python",
   "pygments_lexer": "ipython3",
   "version": "3.10.16"
  }
 },
 "nbformat": 4,
 "nbformat_minor": 5
}
