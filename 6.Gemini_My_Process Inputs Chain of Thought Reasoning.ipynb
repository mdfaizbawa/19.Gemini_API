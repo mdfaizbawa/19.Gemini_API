{
 "cells": [
  {
   "cell_type": "code",
   "execution_count": 1,
   "id": "ae39c35d-d6d6-4648-a07a-87f7638ea3e3",
   "metadata": {},
   "outputs": [
    {
     "name": "stderr",
     "output_type": "stream",
     "text": [
      "C:\\Anaconda\\envs\\genai\\lib\\site-packages\\tqdm\\auto.py:21: TqdmWarning: IProgress not found. Please update jupyter and ipywidgets. See https://ipywidgets.readthedocs.io/en/stable/user_install.html\n",
      "  from .autonotebook import tqdm as notebook_tqdm\n"
     ]
    }
   ],
   "source": [
    "from google import generativeai as genai\n",
    "genai.configure(api_key='***********')"
   ]
  },
  {
   "cell_type": "code",
   "execution_count": 4,
   "id": "014db0bf-ea76-40a2-a031-818658309c27",
   "metadata": {},
   "outputs": [],
   "source": [
    "def get_completion_from_message(message,\n",
    "                                model=\"gemini-2.0-flash-lite\",\n",
    "                                temp=0, max_tokens=500):\n",
    "    model=genai.GenerativeModel(model)\n",
    "\n",
    "    # Gemini expects a single string input, so we concatenate all messages\n",
    "    combined_text= \"\\n\".join([msg[\"content\"] for msg in message])\n",
    "    \n",
    "    response= model.generate_content(combined_text)\n",
    "    return response.text"
   ]
  },
  {
   "cell_type": "code",
   "execution_count": 3,
   "id": "c9fe6d94-dcf4-4f84-8456-4bad9f58bb82",
   "metadata": {},
   "outputs": [],
   "source": [
    "delimiter=\"####\"\n",
    "system_message=f\"\"\"\n",
    "Follow these steps to answer the customer queries.\n",
    "The customer query will be delimited with four hashtags,\\\n",
    "i.e. {delimiter}. \n",
    "\n",
    "Step 1:{delimiter} First decide whether the user is \\\n",
    "asking a question about a specific product or products. \\\n",
    "Product cateogry doesn't count. \n",
    "\n",
    "Step 2:{delimiter} If the user is asking about \\\n",
    "specific products, identify whether \\\n",
    "the products are in the following list.\n",
    "All available products: \n",
    "1. Product: TechPro Ultrabook\n",
    "   Category: Computers and Laptops\n",
    "   Brand: TechPro\n",
    "   Model Number: TP-UB100\n",
    "   Warranty: 1 year\n",
    "   Rating: 4.5\n",
    "   Features: 13.3-inch display, 8GB RAM, 256GB SSD, Intel Core i5 processor\n",
    "   Description: A sleek and lightweight ultrabook for everyday use.\n",
    "   Price: $799.99\n",
    "\n",
    "2. Product: BlueWave Gaming Laptop\n",
    "   Category: Computers and Laptops\n",
    "   Brand: BlueWave\n",
    "   Model Number: BW-GL200\n",
    "   Warranty: 2 years\n",
    "   Rating: 4.7\n",
    "   Features: 15.6-inch display, 16GB RAM, 512GB SSD, NVIDIA GeForce RTX 3060\n",
    "   Description: A high-performance gaming laptop for an immersive experience.\n",
    "   Price: $1199.99\n",
    "\n",
    "3. Product: PowerLite Convertible\n",
    "   Category: Computers and Laptops\n",
    "   Brand: PowerLite\n",
    "   Model Number: PL-CV300\n",
    "   Warranty: 1 year\n",
    "   Rating: 4.3\n",
    "   Features: 14-inch touchscreen, 8GB RAM, 256GB SSD, 360-degree hinge\n",
    "   Description: A versatile convertible laptop with a responsive touchscreen.\n",
    "   Price: $699.99\n",
    "\n",
    "4. Product: TechPro Desktop\n",
    "   Category: Computers and Laptops\n",
    "   Brand: TechPro\n",
    "   Model Number: TP-DT500\n",
    "   Warranty: 1 year\n",
    "   Rating: 4.4\n",
    "   Features: Intel Core i7 processor, 16GB RAM, 1TB HDD, NVIDIA GeForce GTX 1660\n",
    "   Description: A powerful desktop computer for work and play.\n",
    "   Price: $999.99\n",
    "\n",
    "5. Product: BlueWave Chromebook\n",
    "   Category: Computers and Laptops\n",
    "   Brand: BlueWave\n",
    "   Model Number: BW-CB100\n",
    "   Warranty: 1 year\n",
    "   Rating: 4.1\n",
    "   Features: 11.6-inch display, 4GB RAM, 32GB eMMC, Chrome OS\n",
    "   Description: A compact and affordable Chromebook for everyday tasks.\n",
    "   Price: $249.99\n",
    "\n",
    "Step 3:{delimiter} If the message contains products \\\n",
    "in the list above, list any assumptions that the \\\n",
    "user is making in their \\\n",
    "message e.g. that Laptop X is bigger than \\\n",
    "Laptop Y, or that Laptop Z has a 2 year warranty.\n",
    "\n",
    "Step 4:{delimiter} If the user made any assumptions, \\\n",
    "figure out whether the assumption is true based on your \\\n",
    "product information. \n",
    "\n",
    "Step 5:{delimiter} First, politely correct the \\\n",
    "customer's incorrect assumptions if applicable. \\\n",
    "Only mention or reference products in the list of \\\n",
    "5 available products, as these are the only 5 \\\n",
    "products that the store sells. \\\n",
    "Answer the customer in a friendly tone.\n",
    "\n",
    "Use the following format:\n",
    "Step 1:{delimiter} <step 1 reasoning>\n",
    "Step 2:{delimiter} <step 2 reasoning>\n",
    "Step 3:{delimiter} <step 3 reasoning>\n",
    "Step 4:{delimiter} <step 4 reasoning>\n",
    "Response to user:{delimiter} <response to customer>\n",
    "\n",
    "Make sure to include {delimiter} to separate every step.\n",
    "\"\"\""
   ]
  },
  {
   "cell_type": "code",
   "execution_count": 5,
   "id": "e8c89f98-1fcc-405c-b7d9-9cf33a2f9101",
   "metadata": {},
   "outputs": [
    {
     "name": "stdout",
     "output_type": "stream",
     "text": [
      "Step 1:#### The user is asking about the price difference between two specific products: the BlueWave Chromebook and the TechPro Desktop.\n",
      "Step 2:#### Both products mentioned are in the provided list.\n",
      "Step 3:#### The user is not making any assumptions. The user is simply asking a price comparison question.\n",
      "Step 4:#### N/A\n",
      "Response to user:#### The BlueWave Chromebook costs $249.99 and the TechPro Desktop costs $999.99.\n",
      "\n"
     ]
    }
   ],
   "source": [
    "user_message= f\"\"\"\n",
    "by how much is the BlueWave Chromebook more expensive than the TechPro Desktop\n",
    "\"\"\"\n",
    "\n",
    "# Formatting messages\n",
    "message= [{'role':'user','content':f\"{delimiter}{system_message}{delimiter}\\n{user_message}\"}]\n",
    "\n",
    "response=get_completion_from_message(message)\n",
    "print(response)"
   ]
  },
  {
   "cell_type": "code",
   "execution_count": 6,
   "id": "c90e5675-581e-49f6-b365-23791763b8d1",
   "metadata": {},
   "outputs": [
    {
     "name": "stdout",
     "output_type": "stream",
     "text": [
      "Step 1:#### The user is asking a general question about whether the store sells TVs, not about any specific products.\n",
      "Step 2:#### The user is not asking about any specific products on the list.\n",
      "Step 3:#### N/A\n",
      "Step 4:#### N/A\n",
      "Response to user:#### Unfortunately, we do not sell TVs. We specialize in computers and laptops. Is there anything else I can help you with today?\n",
      "\n"
     ]
    }
   ],
   "source": [
    "user_message= f\"\"\"do you sell TVs\"\"\"\n",
    "\n",
    "# Formatting messages\n",
    "message= [{'role':'user','content':f\"{delimiter}{system_message}{delimiter}\\n{user_message}\"}]\n",
    "\n",
    "response=get_completion_from_message(message)\n",
    "print(response)"
   ]
  },
  {
   "cell_type": "code",
   "execution_count": 7,
   "id": "be0b9f91-9ebe-452b-a854-5651454bcda5",
   "metadata": {},
   "outputs": [
    {
     "name": "stdout",
     "output_type": "stream",
     "text": [
      "Unfortunately, we do not sell TVs. We specialize in computers and laptops. Is there anything else I can help you with today?\n"
     ]
    }
   ],
   "source": [
    "try:\n",
    "    final_response= response.split(delimiter)[-1].strip()\n",
    "except Exception as e:\n",
    "    final_response= \"Sorry, I'm having trouble right now, please try asking another question.\"\n",
    "\n",
    "print(final_response)"
   ]
  },
  {
   "cell_type": "code",
   "execution_count": null,
   "id": "c065febc-d8d5-4027-93c0-6722e1022a25",
   "metadata": {},
   "outputs": [],
   "source": []
  }
 ],
 "metadata": {
  "kernelspec": {
   "display_name": "Python 3 (ipykernel)",
   "language": "python",
   "name": "python3"
  },
  "language_info": {
   "codemirror_mode": {
    "name": "ipython",
    "version": 3
   },
   "file_extension": ".py",
   "mimetype": "text/x-python",
   "name": "python",
   "nbconvert_exporter": "python",
   "pygments_lexer": "ipython3",
   "version": "3.10.16"
  }
 },
 "nbformat": 4,
 "nbformat_minor": 5
}
