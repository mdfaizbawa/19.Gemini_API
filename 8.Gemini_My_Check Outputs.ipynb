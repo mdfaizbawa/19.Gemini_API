{
 "cells": [
  {
   "cell_type": "code",
   "execution_count": 1,
   "id": "5e30534c-9d72-4c7e-827c-3612693a6c63",
   "metadata": {},
   "outputs": [
    {
     "name": "stderr",
     "output_type": "stream",
     "text": [
      "C:\\Anaconda\\envs\\genai\\lib\\site-packages\\tqdm\\auto.py:21: TqdmWarning: IProgress not found. Please update jupyter and ipywidgets. See https://ipywidgets.readthedocs.io/en/stable/user_install.html\n",
      "  from .autonotebook import tqdm as notebook_tqdm\n"
     ]
    }
   ],
   "source": [
    "from google import generativeai as genai\n",
    "genai.configure(api_key='******************')"
   ]
  },
  {
   "cell_type": "code",
   "execution_count": 2,
   "id": "848f6a05-06e9-4460-868e-0cfefe746759",
   "metadata": {},
   "outputs": [],
   "source": [
    "def get_completion_from_messages(messages, model=\"gemini-2.0-flash-lite\",\n",
    "                                temp=0, max_tokens=500):\n",
    "    model= genai.GenerativeModel(model)\n",
    "\n",
    "    response = model.generate_content(messages[-1]['content'], generation_config ={\"temperature\":temp, \n",
    "                                                                                   \"max_output_tokens\":max_tokens})\n",
    "    return response.text\n",
    "    "
   ]
  },
  {
   "cell_type": "code",
   "execution_count": 3,
   "id": "5b1b1790-177b-40a8-a946-2c8471fe32bb",
   "metadata": {},
   "outputs": [],
   "source": [
    "final_respone_to_customer=f\"\"\"\n",
    "Okay! I can help with that.\n",
    "\n",
    "**SmartX ProPhone:** It has a 6.1-inch display, 128GB storage, a 12MP dual camera, and 5G. It's $899.99.\n",
    "\n",
    "**FotoSnap DSLR Camera:** It has a 24.2MP sensor, 1080p video, a 3-inch LCD, and interchangeable lenses. It's $599.99.\n",
    "\n",
    "**Regarding TVs, we have a few options:**\n",
    "\n",
    "*   **CineView 4K TV:** 55-inch, 4K resolution, HDR, and Smart TV for $599.99.\n",
    "*   **CineView 8K TV:** 65-inch, 8K resolution, HDR, and Smart TV for $2999.99.\n",
    "*   **CineView OLED TV:** 55-inch, 4K resolution, HDR, and Smart TV for $1499.99.\n",
    "\n",
    "Do any of those TVs sound interesting?\n",
    "\"\"\""
   ]
  },
  {
   "cell_type": "code",
   "execution_count": 4,
   "id": "8dbda7f2-c9e8-4105-b1d3-be264ad78326",
   "metadata": {},
   "outputs": [
    {
     "name": "stdout",
     "output_type": "stream",
     "text": [
      "Moderation Check: N\n",
      "\n"
     ]
    }
   ],
   "source": [
    "moderation_prompt=f\"\"\"\n",
    "You are a content moderator. Analyze the following text for harmful content, hate speech, harassment, or unsafe topics.\n",
    "Respond with a single letter:\n",
    "Y - if it contains harmful content\n",
    "N - if it is safe.\n",
    "\n",
    "text: '''{final_respone_to_customer}\n",
    "\"\"\"\n",
    "\n",
    "moderation_response= get_completion_from_messages([{\"role\":\"user\", \"content\":moderation_prompt}])\n",
    "\n",
    "print(\"Moderation Check:\", moderation_response)"
   ]
  },
  {
   "cell_type": "code",
   "execution_count": 6,
   "id": "0b36857f-3cf5-4861-8d1b-fce6733762d9",
   "metadata": {},
   "outputs": [
    {
     "name": "stdout",
     "output_type": "stream",
     "text": [
      "Y\n"
     ]
    }
   ],
   "source": [
    "system_message=f\"\"\"\n",
    "You are an assistant that evaluates whether \\\n",
    "customer service agent responses sufficiently \\\n",
    "answer customer questions, and also validates that \\\n",
    "all the facts the assistant cites from the product \\\n",
    "information are correct.\n",
    "The product information and user and customer \\\n",
    "service agent messages will be delimited by \\\n",
    "3 backticks, i.e. \\`\\`\\`.\n",
    "Respond with a Y or N character, with no punctuation:\n",
    "Y - if the output sufficiently answers the question \\\n",
    "AND the response correctly uses product information\n",
    "N - otherwise\n",
    "\n",
    "Output a single letter only.\n",
    "\"\"\"\n",
    "\n",
    "customer_message=f\"\"\"\n",
    "tell me about the smartx pro phone and \\\n",
    "the fotosnap camera, the dslr one. \\\n",
    "Also tell me about your tvs\"\"\"\n",
    "\n",
    "product_information = \"\"\"{ \"name\": \"SmartX ProPhone\", \"category\": \"Smartphones and Accessories\", \"brand\": \"SmartX\", \"model_number\": \"SX-PP10\", \"warranty\": \"1 year\", \"rating\": 4.6, \"features\": [ \"6.1-inch display\", \"128GB storage\", \"12MP dual camera\", \"5G\" ], \"description\": \"A powerful smartphone with advanced camera features.\", \"price\": 899.99 } { \"name\": \"FotoSnap DSLR Camera\", \"category\": \"Cameras and Camcorders\", \"brand\": \"FotoSnap\", \"model_number\": \"FS-DSLR200\", \"warranty\": \"1 year\", \"rating\": 4.7, \"features\": [ \"24.2MP sensor\", \"1080p video\", \"3-inch LCD\", \"Interchangeable lenses\" ], \"description\": \"Capture stunning photos and videos with this versatile DSLR camera.\", \"price\": 599.99 } \"\"\"\n",
    "\n",
    "q_a_pair=f\"\"\"\n",
    "Customer message:\n",
    "{customer_message}\n",
    "Product information:\n",
    "{product_information}\n",
    "Agent response:\n",
    "{final_respone_to_customer}\n",
    "Does the response use the retrieved information correctly?\n",
    "Does the response sufficiently answer the question?\n",
    "\n",
    "Output Y or N\n",
    "\"\"\"\n",
    "\n",
    "messages=[\n",
    "    {\"role\":\"system\",\"content\":system_message},\n",
    "    {\"role\":\"user\",\"content\":q_a_pair}]\n",
    "\n",
    "response=get_completion_from_messages(messages, max_tokens=1)\n",
    "print(response)"
   ]
  },
  {
   "cell_type": "code",
   "execution_count": 7,
   "id": "a64140c8-7e72-43ee-9fb6-f6e83c917702",
   "metadata": {},
   "outputs": [
    {
     "name": "stdout",
     "output_type": "stream",
     "text": [
      "N\n"
     ]
    }
   ],
   "source": [
    "#wrong Response for Checking\n",
    "\n",
    "another_response=\"\"\"life is like a box of chocolates\"\"\"\n",
    "\n",
    "q_a_pair=f\"\"\"\n",
    "Customer message:\n",
    "{customer_message}\n",
    "Product information:\n",
    "{product_information}\n",
    "Agent response:\n",
    "{another_response}\n",
    "Does the response use the retrieved information correctly?\n",
    "Does the response sufficiently answer the question?\n",
    "\n",
    "Output Y or N\n",
    "\"\"\"\n",
    "\n",
    "messages=[\n",
    "    {\"role\":\"system\",\"content\":system_message},\n",
    "    {\"role\":\"user\",\"content\":q_a_pair}]\n",
    "\n",
    "response=get_completion_from_messages(messages, max_tokens=1)\n",
    "print(response)"
   ]
  },
  {
   "cell_type": "code",
   "execution_count": null,
   "id": "830d112d-2388-4c9c-8bac-7aa2ee9be622",
   "metadata": {},
   "outputs": [],
   "source": []
  }
 ],
 "metadata": {
  "kernelspec": {
   "display_name": "Python 3 (ipykernel)",
   "language": "python",
   "name": "python3"
  },
  "language_info": {
   "codemirror_mode": {
    "name": "ipython",
    "version": 3
   },
   "file_extension": ".py",
   "mimetype": "text/x-python",
   "name": "python",
   "nbconvert_exporter": "python",
   "pygments_lexer": "ipython3",
   "version": "3.10.16"
  }
 },
 "nbformat": 4,
 "nbformat_minor": 5
}
